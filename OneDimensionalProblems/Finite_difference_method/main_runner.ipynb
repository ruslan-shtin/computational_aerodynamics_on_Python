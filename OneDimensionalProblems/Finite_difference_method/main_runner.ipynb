{
 "cells": [
  {
   "cell_type": "code",
   "execution_count": 1,
   "id": "bbdc4345",
   "metadata": {},
   "outputs": [],
   "source": [
    "import utils\n",
    "import models\n",
    "import PreciseSolutions\n",
    "\n",
    "import numpy as np\n",
    "import matplotlib.pyplot as plt"
   ]
  },
  {
   "cell_type": "markdown",
   "id": "f8eaf61b",
   "metadata": {},
   "source": [
    "# Описание начальных условий"
   ]
  },
  {
   "cell_type": "markdown",
   "id": "f574db33",
   "metadata": {},
   "source": [
    "## Разрывное НУ"
   ]
  },
  {
   "cell_type": "code",
   "execution_count": 2,
   "id": "dbb59015",
   "metadata": {},
   "outputs": [
    {
     "data": {
      "image/png": "[encoded data removed]",
      "text/plain": [
       "<Figure size 640x480 with 1 Axes>"
      ]
     },
     "metadata": {},
     "output_type": "display_data"
    }
   ],
   "source": [
    "def impuls(x):\n",
    "    if x < 1480 or x > 1520:\n",
    "        return 0\n",
    "    else:\n",
    "        return 1\n",
    "\n",
    "x = np.linspace(0, 3000, 3001)\n",
    "y = np.array([impuls(xx) for xx in x])\n",
    "\n",
    "plt.plot(x, y);"
   ]
  },
  {
   "cell_type": "markdown",
   "id": "abb04ef6",
   "metadata": {},
   "source": [
    "## Непрерывное НУ"
   ]
  },
  {
   "cell_type": "code",
   "execution_count": 3,
   "id": "dd7324c9",
   "metadata": {},
   "outputs": [
    {
     "data": {
      "text/plain": [
       "(1400.0, 1600.0)"
      ]
     },
     "execution_count": 3,
     "metadata": {},
     "output_type": "execute_result"
    },
    {
     "data": {
      "image/png": "[encoded data removed]",
      "text/plain": [
       "<Figure size 640x480 with 1 Axes>"
      ]
     },
     "metadata": {},
     "output_type": "display_data"
    }
   ],
   "source": [
    "def halfsinus(x):\n",
    "    m = 5\n",
    "    if x < 1480 or x > 1520:\n",
    "        return 0\n",
    "    else:\n",
    "        return np.sin(((x - 1480) * np.pi) / 40) ** m\n",
    "\n",
    "x = np.linspace(0, 3000, 3001)\n",
    "y = np.array([halfsinus(xx) for xx in x])\n",
    "\n",
    "plt.plot(x, y);\n",
    "plt.xlim(1400, 1600)"
   ]
  },
  {
   "cell_type": "markdown",
   "id": "04f23ec0",
   "metadata": {},
   "source": [
    "# Параметры задачи"
   ]
  },
  {
   "cell_type": "code",
   "execution_count": 4,
   "id": "d300170b",
   "metadata": {},
   "outputs": [],
   "source": [
    "TOTAL_TIME = 100\n",
    "SPEED = 1"
   ]
  },
  {
   "cell_type": "markdown",
   "id": "ecceadcb",
   "metadata": {},
   "source": [
    "# Конкретный пример на одной сетке"
   ]
  },
  {
   "cell_type": "code",
   "execution_count": null,
   "id": "ac065ce3",
   "metadata": {},
   "outputs": [],
   "source": []
  },
  {
   "cell_type": "code",
   "execution_count": null,
   "id": "601c7237",
   "metadata": {},
   "outputs": [],
   "source": [
    "\"\"\" Требования к сетке Mesh:\n",
    "\n",
    "    xleft : float\n",
    "        Левая граница сетки\n",
    "    yleft : float\n",
    "        Правая граница сетки\n",
    "    N : int\n",
    "        Число узлов в сетке\n",
    "\n",
    "\"\"\""
   ]
  },
  {
   "cell_type": "code",
   "execution_count": 6,
   "id": "b8a493e8",
   "metadata": {},
   "outputs": [],
   "source": [
    "\"\"\" Требования к TaskParams:\n",
    "\n",
    "    init_cond : function\n",
    "        Функция одного переменного - координаты x,\n",
    "        возвращая значение функции в точке x в начальный момент времени\n",
    "    speed_function : function\n",
    "        Функция двух переменных - сетки mesh и решения U,\n",
    "        возвращающая скорость на всей оси OX\n",
    "    right_function : function\n",
    "        Функция правой части, зависящая от (mesh, t, U),\n",
    "        возвращающая значение правой части на всей оси OX\n",
    "\"\"\";"
   ]
  },
  {
   "cell_type": "code",
   "execution_count": 3,
   "id": "19f2fd57",
   "metadata": {},
   "outputs": [],
   "source": [
    "\"\"\" Для проведения расчётов использовать функцию main_runner из utils:\n",
    "\n",
    "    def main_runner(task_params, mesh, Cu, total_time, time_step_method, space_deriv_approx_method, N_iter_max):\n",
    "    Основная функция для численного решения одномерного уравнения переноса.\n",
    "        \n",
    "        Вход:\n",
    "            task_params: TaskParams\n",
    "                Описание параметров уравнения переноса\n",
    "            mesh: Mesh\n",
    "                Сетка, на которой произиводится решение\n",
    "            Cu: float\n",
    "                Число Куранта\n",
    "            total_time: float\n",
    "                Физическое время, до которого нужно считать\n",
    "            time_step_mathod: str\n",
    "                Название метода аппроксимации временной производной\n",
    "            space_deriv_approx_method: str\n",
    "                Название метода аппроксимации производной по пространству\n",
    "            N_iter_max : int\n",
    "                Максимальное число итераций\n",
    "        \n",
    "        Выход:\n",
    "            U: np.array\n",
    "                Численное решение на сетке mesh.\n",
    "                Массив длины mesh.N\n",
    "            time_steps: np.array\n",
    "                массив шагов по времени, чтобы после можно\n",
    "                было проанализировать как работал алгоритм\n",
    "\"\"\";"
   ]
  },
  {
   "cell_type": "code",
   "execution_count": null,
   "id": "539359d6",
   "metadata": {},
   "outputs": [],
   "source": [
    "\n"
   ]
  },
  {
   "cell_type": "code",
   "execution_count": null,
   "id": "15c8f0f6",
   "metadata": {},
   "outputs": [],
   "source": []
  },
  {
   "cell_type": "code",
   "execution_count": null,
   "id": "fb16c7a4",
   "metadata": {},
   "outputs": [],
   "source": []
  },
  {
   "cell_type": "code",
   "execution_count": null,
   "id": "cbb76ab6",
   "metadata": {},
   "outputs": [],
   "source": []
  },
  {
   "cell_type": "code",
   "execution_count": 8,
   "id": "645a098b",
   "metadata": {},
   "outputs": [],
   "source": [
    "g1 = Mesh(0, 3000, 3001)\n",
    "g2 = g1.get_twice_grid()"
   ]
  },
  {
   "cell_type": "code",
   "execution_count": 14,
   "id": "dc344d5d",
   "metadata": {},
   "outputs": [
    {
     "data": {
      "text/plain": [
       "[<matplotlib.lines.Line2D at 0x7fc143bdb970>]"
      ]
     },
     "execution_count": 14,
     "metadata": {},
     "output_type": "execute_result"
    },
    {
     "data": {
      "image/png": "[encoded data removed]",
      "text/plain": [
       "<Figure size 640x480 with 1 Axes>"
      ]
     },
     "metadata": {},
     "output_type": "display_data"
    }
   ],
   "source": [
    "plt.plot(g2.xnodes, '-o')"
   ]
  },
  {
   "cell_type": "code",
   "execution_count": 9,
   "id": "9cb02a05",
   "metadata": {},
   "outputs": [
    {
     "data": {
      "text/plain": [
       "array([0.0000e+00, 5.0000e-01, 1.0000e+00, ..., 2.9990e+03, 2.9995e+03,\n",
       "       3.0000e+03])"
      ]
     },
     "execution_count": 9,
     "metadata": {},
     "output_type": "execute_result"
    }
   ],
   "source": [
    "g2.xnodes"
   ]
  }
 ],
 "metadata": {
  "kernelspec": {
   "display_name": "Python 3 (ipykernel)",
   "language": "python",
   "name": "python3"
  },
  "language_info": {
   "codemirror_mode": {
    "name": "ipython",
    "version": 3
   },
   "file_extension": ".py",
   "mimetype": "text/x-python",
   "name": "python",
   "nbconvert_exporter": "python",
   "pygments_lexer": "ipython3",
   "version": "3.9.13"
  },
  "toc": {
   "base_numbering": 1,
   "nav_menu": {},
   "number_sections": true,
   "sideBar": true,
   "skip_h1_title": false,
   "title_cell": "Table of Contents",
   "title_sidebar": "Contents",
   "toc_cell": false,
   "toc_position": {},
   "toc_section_display": true,
   "toc_window_display": false
  }
 },
 "nbformat": 4,
 "nbformat_minor": 5
}
